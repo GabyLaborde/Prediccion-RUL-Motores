{
 "cells": [
  {
   "cell_type": "markdown",
   "id": "41db793f",
   "metadata": {},
   "source": [
    "<h2 id=\"anexoc\" style=\"background-color: #80B8D1 ; color: white; padding: 5px;font-size: 20px;\">ANEXO C -  TRANSFORMACIÓN Y SELECCIÓN DE VARIABLES</h2>"
   ]
  },
  {
   "cell_type": "markdown",
   "id": "2c554a9b",
   "metadata": {
    "id": "2c554a9b"
   },
   "source": [
    "### CARGA DE LIBRERÍAS Y DATOS"
   ]
  },
  {
   "cell_type": "code",
   "execution_count": 1,
   "id": "03939f6a",
   "metadata": {
    "id": "03939f6a"
   },
   "outputs": [],
   "source": [
    "%matplotlib inline\n",
    "import pandas as pd\n",
    "import numpy as np\n",
    "import matplotlib.pyplot as plt\n",
    "import seaborn as sns; sns.set()\n",
    "import os\n",
    "from scipy.stats import chi2_contingency\n",
    "from collections import Counter\n",
    "\n",
    "from sklearn.linear_model import LinearRegression\n",
    "from sklearn.ensemble import RandomForestRegressor\n",
    "from sklearn.metrics import mean_squared_error, r2_score, make_scorer\n",
    "from sklearn.model_selection import GroupShuffleSplit, RandomizedSearchCV, GroupKFold,cross_val_score\n",
    "from sklearn.preprocessing import StandardScaler, MinMaxScaler\n",
    "from sklearn.preprocessing import PolynomialFeatures\n",
    "from sklearn.svm import SVR\n",
    "from sklearn.feature_selection import RFECV"
   ]
  },
  {
   "cell_type": "code",
   "execution_count": 2,
   "id": "323b9dfe",
   "metadata": {
    "id": "323b9dfe"
   },
   "outputs": [],
   "source": [
    "path = \"../CMaps/\"\n",
    "train_doc = \"train_FD004.txt\"\n",
    "test_doc = \"test_FD004.txt\"\n",
    "test_target_doc=\"RUL_FD004.txt\"\n",
    "\n",
    "indices = [\"unit_num\", \"cycle\"]\n",
    "settings = [\"setting_1\", \"setting_2\", \"setting_3\"]\n",
    "sensor = [\"s_{}\".format(i+1) for i in range(0,21)]\n",
    "col_nombres = indices + settings + sensor\n",
    "\n",
    "# Leer los datos\n",
    "train = pd.read_csv((path+train_doc), sep=\"\\s+\", header=None, \n",
    "                 names=col_nombres)\n",
    "test = pd.read_csv((path+test_doc), sep=\"\\s+\", header=None, \n",
    "                 names=col_nombres)\n",
    "y_test = pd.read_csv((path+test_target_doc), sep=\"\\s+\", header=None, \n",
    "                 names=[\"RUL\"])"
   ]
  },
  {
   "cell_type": "code",
   "execution_count": 3,
   "id": "adb2ea4b",
   "metadata": {
    "id": "adb2ea4b"
   },
   "outputs": [],
   "source": [
    "train[\"setting_1\"]=train[\"setting_1\"].round(decimals=1)\n",
    "train[\"setting_2\"]=train[\"setting_2\"].round(decimals=2)\n",
    "\n",
    "test[\"setting_1\"]=test[\"setting_1\"].round(decimals=1)\n",
    "test[\"setting_2\"]=test[\"setting_2\"].round(decimals=2)"
   ]
  },
  {
   "cell_type": "markdown",
   "id": "666250cd",
   "metadata": {
    "id": "666250cd"
   },
   "source": [
    "### FUNCIÓN AUXILIAR RUL"
   ]
  },
  {
   "cell_type": "code",
   "execution_count": 4,
   "id": "b16be1a5",
   "metadata": {
    "id": "b16be1a5"
   },
   "outputs": [],
   "source": [
    "def RUL_add(dataframe,clipped=False,early=None):\n",
    "    if \"unit_num\" in dataframe.columns and \"cycle\" in dataframe.columns:\n",
    "\n",
    "        df_rul=dataframe.groupby(\"unit_num\")[\"cycle\"].max().reset_index()\n",
    "        df_rul.columns=[\"unit_num\",\"max\"]\n",
    "        dataframe = pd.merge(dataframe, df_rul, on=\"unit_num\")\n",
    "        dataframe[\"RUL\"]=dataframe[\"max\"]-dataframe[\"cycle\"]\n",
    "        dataframe=dataframe.drop(labels=\"max\",axis=1)\n",
    "\n",
    "        if clipped:\n",
    "             dataframe[\"RUL\"]=dataframe[\"RUL\"].clip(upper=early)\n",
    "\n",
    "        return dataframe\n",
    "    else:\n",
    "        print(\"El dataframe debe contener las columnas unit_num y cycle\")"
   ]
  },
  {
   "cell_type": "markdown",
   "id": "a0cd5fd5",
   "metadata": {
    "id": "a0cd5fd5"
   },
   "source": [
    "### MODELO BASE"
   ]
  },
  {
   "cell_type": "markdown",
   "id": "21b09de7",
   "metadata": {},
   "source": [
    "Previo a adentrarnos en la sección de selección de variables, se estableció un modelo base mediante una regresión lineal. Este modelo inicial sirvió como punto de partida fundamental para orientar las decisiones y estrategias.\n",
    "\n",
    "\n",
    "Para ello se comenzó imputando la RUL en el conjunto de entrenamiento, y al mismo tiempo se realizó la segregación de la variable objetivo (**y_train**) de las variables predictoras (**X_train**). Cabe destacar que, en el caso de las variables predictoras, se excluyeron las columnas \"*unit_num*\" y \"*cycle*\". La primera se trata de una variable de identificación, y la segunda ya fue utilizada previamente para el cálculo de RUL. En el caso del conjunto de prueba, eliminamos las mismas columnas. Además, dentro de **X_test**, solo estamos interesados en el último ciclo de tiempo reportado para cada motor, ya que solo tenemos valores reales de RUL para esos registros (**y_test**).\n",
    "\n",
    "Por otra parte, se introdujo una variable adicional denominada **groups**, la cual agrupa los valores según el número de motor. Esta variable resultará necesaria para llevar a cabo la validación cruzada, ya que permite que los folds queden estratificados por grupos. En otras palabras, asegura que todos los registros de un mismo motor estén presentes en un solo fold, evitando dispersión de datos entre diferentes pliegues. La preservación de la homogeneidad de los grupos en cada fold asegura que la evaluación sea más precisa y realista, reflejando las condiciones reales en las que el modelo operaría posteriormente en motores individuales."
   ]
  },
  {
   "cell_type": "code",
   "execution_count": 5,
   "id": "a25d30d1",
   "metadata": {
    "colab": {
     "base_uri": "https://localhost:8080/"
    },
    "id": "a25d30d1",
    "outputId": "53acad84-771f-4f5b-b1c3-6e3a513ee628"
   },
   "outputs": [
    {
     "name": "stdout",
     "output_type": "stream",
     "text": [
      "Tamaño X_train = (61249, 24) y Tamaño y_train = (61249,)\n",
      "Tamaño X_test (248, 24) y Tamaño y_test (248, 1)\n"
     ]
    },
    {
     "data": {
      "text/plain": [
       "0    125\n",
       "1    125\n",
       "2    125\n",
       "3    125\n",
       "4    125\n",
       "Name: RUL, dtype: int64"
      ]
     },
     "execution_count": 5,
     "metadata": {},
     "output_type": "execute_result"
    }
   ],
   "source": [
    "seed=42\n",
    "\n",
    "#Train\n",
    "X_train=RUL_add(train,True,125)\n",
    "groups=X_train.unit_num #grupos para la validación cruzada\n",
    "\n",
    "y_train=X_train.RUL\n",
    "X_train=X_train.drop(labels=[\"RUL\",\"cycle\",\"unit_num\"],axis=1) \n",
    "\n",
    "#Test\n",
    "X_test=test.groupby(\"unit_num\").last().reset_index()\n",
    "X_test=X_test.drop(labels=[\"unit_num\",\"cycle\"],axis=1)\n",
    "\n",
    "print(f\"Tamaño X_train = {X_train.shape} y Tamaño y_train = {y_train.shape}\\nTamaño X_test {X_test.shape} y Tamaño y_test {y_test.shape}\")"
   ]
  },
  {
   "cell_type": "markdown",
   "id": "35774f32",
   "metadata": {},
   "source": [
    "Ahora si estamos en condiciones de entrenar y evaluar el modelo base. Este proceso se realizó mediante validación cruzada con la técnica de GroupShuffleSplit, que divide los datos en conjuntos de entrenamiento y validación respetando los grupos definidos en *grupos*. Se crean 5 pliegues (15% validación y 85% entrenamiento). Es importante destacar que esta división se realiza sobre el conjunto de entrenamiento, manteniendo el conjunto de prueba intacto para ser utilizado sólo en la evaluación final.  \n",
    "\n",
    "Como métrica de evaluación se optó por el RMSE (Root Mean Square Error). El objetivo principal es predecir con la mayor precisión posible la RUL de los motores. Si bien tanto el MSE como el RMSE se enfocan en penalizar los errores mayores, evitando pronósticos significativamente incorrectos en el ámbito de mantenimiento, el RMSE tiene la ventaja de ser intuitivo y más fácil de interpretar.\n"
   ]
  },
  {
   "cell_type": "code",
   "execution_count": 9,
   "id": "f9ae0060",
   "metadata": {
    "colab": {
     "base_uri": "https://localhost:8080/"
    },
    "id": "f9ae0060",
    "outputId": "2e7f4e5e-ccf5-46a6-f3a0-2f7a5ab61cc4"
   },
   "outputs": [
    {
     "name": "stdout",
     "output_type": "stream",
     "text": [
      "RSME: [23.72 21.96 21.95 20.83 21.54]\n",
      "RSME:  22.0 Desviación estándar:  0.95\n"
     ]
    }
   ],
   "source": [
    "model = LinearRegression()\n",
    "\n",
    "#Se evalúa el modelo \n",
    "gss = GroupShuffleSplit(n_splits=5, test_size=0.15, random_state=seed)\n",
    "scores = cross_val_score(model, X_train, y_train, groups=groups, cv=gss,scoring=\"neg_root_mean_squared_error\")\n",
    "\n",
    "print (\"RSME:\", -scores.round(2))\n",
    "print(\"RSME: \", -scores.mean().round(2),\"Desviación estándar: \", scores.std().round(2))\n"
   ]
  },
  {
   "cell_type": "markdown",
   "id": "009de9ad",
   "metadata": {},
   "source": [
    "Por tanto, el **RMSE** obtenido con el **modelo base es de 22** (condiciónes: GroupShuffleSplit 15% val size y 5 folds)."
   ]
  },
  {
   "cell_type": "markdown",
   "id": "79b60bfc",
   "metadata": {
    "id": "79b60bfc"
   },
   "source": [
    "### TRANSFORMACIONES INICIALES"
   ]
  },
  {
   "cell_type": "markdown",
   "id": "d37965e3",
   "metadata": {
    "id": "d37965e3"
   },
   "source": [
    "**VARIABLES CATEGÓRICAS**\n",
    "\n",
    "Dado que las variables categóricas (setting_1, setting_2 y setting_3) tienen un número limitado de categorías, se optó por transformarlas en variables dummy utilizando codificación one-hot, ya que esto no incrementa de manera significativa la cantidad de características."
   ]
  },
  {
   "cell_type": "code",
   "execution_count": 10,
   "id": "dbe111ee",
   "metadata": {
    "id": "dbe111ee"
   },
   "outputs": [],
   "source": [
    "X_train=pd.get_dummies(data=X_train,columns=settings)\n",
    "X_test=pd.get_dummies(data=X_test,columns=settings)"
   ]
  },
  {
   "cell_type": "code",
   "execution_count": 11,
   "id": "59f592a8",
   "metadata": {
    "colab": {
     "base_uri": "https://localhost:8080/"
    },
    "id": "59f592a8",
    "outputId": "54158849-5ee6-4e3d-bd6d-a90d5c5b7ec9"
   },
   "outputs": [
    {
     "name": "stdout",
     "output_type": "stream",
     "text": [
      "Tamaño X_train = (61249, 34) y Tamaño y_train = (61249,)\n",
      "Tamaño X_test (248, 34) y Tamaño y_test (248, 1)\n"
     ]
    },
    {
     "data": {
      "text/plain": [
       "Index(['s_1', 's_2', 's_3', 's_4', 's_5', 's_6', 's_7', 's_8', 's_9', 's_10',\n",
       "       's_11', 's_12', 's_13', 's_14', 's_15', 's_16', 's_17', 's_18', 's_19',\n",
       "       's_20', 's_21', 'setting_1_0.0', 'setting_1_10.0', 'setting_1_20.0',\n",
       "       'setting_1_25.0', 'setting_1_35.0', 'setting_1_42.0', 'setting_2_0.0',\n",
       "       'setting_2_0.25', 'setting_2_0.62', 'setting_2_0.7', 'setting_2_0.84',\n",
       "       'setting_3_60.0', 'setting_3_100.0'],\n",
       "      dtype='object')"
      ]
     },
     "execution_count": 11,
     "metadata": {},
     "output_type": "execute_result"
    }
   ],
   "source": [
    "print(f\"Tamaño X_train = {X_train.shape} y Tamaño y_train = {y_train.shape}\\nTamaño X_test {X_test.shape} y Tamaño y_test {y_test.shape}\")\n",
    "\n",
    "X_train.columns"
   ]
  },
  {
   "cell_type": "markdown",
   "id": "07905c13",
   "metadata": {
    "id": "07905c13"
   },
   "source": [
    "**VARIABLES NUMÉRICAS**\n",
    "\n",
    "El escalado es necesario para muchos algoritmos (aunque no todos) debido a que pueden verse influenciados por las disparidades de escala. Es decir, para evitar que variables con valores más grandes pueden tener un impacto desproporcionado en el modelo. Dado que en esta sección se probarán varios modelos se procedió a escalar las variables numéricas.\n",
    "Como se vio en la sección de EDA, las variables numéricas tienen diferentes distribuciones según la condición operativa del sistema. Por ello se optó por probar dos enfoques, un *escalado globa*l y un *escalado por condición operativa*. Se compararán ambos enfoques para determinar cuál mejora más la capacidad predictiva.\n",
    "\n",
    "\n",
    "**Escalado Global**"
   ]
  },
  {
   "cell_type": "code",
   "execution_count": 12,
   "id": "1bfe1962",
   "metadata": {
    "id": "1bfe1962"
   },
   "outputs": [],
   "source": [
    "scaler = MinMaxScaler()\n",
    "scaler.fit(X_train[sensor])\n",
    "X_train[sensor] = scaler.transform(X_train[sensor])\n",
    "X_test[sensor] = scaler.transform(X_test[sensor])"
   ]
  },
  {
   "cell_type": "code",
   "execution_count": 13,
   "id": "30d55b19",
   "metadata": {
    "colab": {
     "base_uri": "https://localhost:8080/"
    },
    "id": "30d55b19",
    "outputId": "9baa4495-af68-4b13-e87b-d2294d14314a",
    "scrolled": false
   },
   "outputs": [
    {
     "name": "stdout",
     "output_type": "stream",
     "text": [
      "RSME: [23.72 21.96 21.95 20.83 21.54]\n",
      "RSME:  22.0 Desviación estándar:  0.95\n"
     ]
    }
   ],
   "source": [
    "model = LinearRegression()\n",
    "\n",
    "group_shuffle_split = GroupShuffleSplit(n_splits=5, test_size=0.15, random_state=seed)\n",
    "\n",
    "scores = cross_val_score(model, X_train, y_train, groups=groups, cv=group_shuffle_split,scoring=\"neg_root_mean_squared_error\")\n",
    "\n",
    "print (\"RSME:\", -scores.round(2))\n",
    "print(\"RSME: \", -scores.mean().round(2),\"Desviación estándar: \", scores.std().round(2))\n"
   ]
  },
  {
   "cell_type": "markdown",
   "id": "f8e4c587",
   "metadata": {},
   "source": [
    "**Escalado por condición operativa**"
   ]
  },
  {
   "cell_type": "code",
   "execution_count": 14,
   "id": "53c6aeb0",
   "metadata": {},
   "outputs": [],
   "source": [
    "seed=42\n",
    "\n",
    "#Train\n",
    "X_train=RUL_add(train,True,125)\n",
    "groups=X_train.unit_num \n",
    "\n",
    "y_train=X_train.RUL\n",
    "X_train=X_train.drop(labels=[\"RUL\",\"cycle\",\"unit_num\"],axis=1) \n",
    "\n",
    "#Test\n",
    "X_test=test.groupby(\"unit_num\").last().reset_index()\n",
    "X_test=X_test.drop(labels=[\"unit_num\",\"cycle\"],axis=1)"
   ]
  },
  {
   "cell_type": "code",
   "execution_count": 15,
   "id": "d2feb098",
   "metadata": {
    "scrolled": true
   },
   "outputs": [],
   "source": [
    "#Se crea variable condición operativa\n",
    "X_train[\"condición_op\"] = X_train[\"setting_1\"].astype(str) + \"_\" + \\\n",
    "                        X_train[\"setting_2\"].astype(str) + \"_\" + \\\n",
    "                        X_train[\"setting_3\"].astype(str)\n",
    "\n",
    "X_test[\"condición_op\"] = X_test[\"setting_1\"].astype(str) + \"_\" + \\\n",
    "                        X_test[\"setting_2\"].astype(str) + \"_\" + \\\n",
    "                        X_test[\"setting_3\"].astype(str)\n",
    "\n",
    "#Escalado por condición operativa\n",
    "\n",
    "for cond in X_train[\"condición_op\"].unique(): \n",
    "    filtro=X_train[X_train[\"condición_op\"]==cond]\n",
    "    filtro_test=X_test[X_test[\"condición_op\"]==cond]\n",
    "    scaler = MinMaxScaler()\n",
    "    scaler.fit(filtro[sensor])\n",
    "    X_train.loc[X_train[\"condición_op\"]==cond, sensor]=scaler.transform(filtro[sensor])\n",
    "    X_test.loc[X_test[\"condición_op\"]==cond, sensor]=scaler.transform(filtro_test[sensor])\n",
    "\n",
    "#Luego de escalar se elimina variable creada \"condición_op\"\n",
    "X_train=X_train.drop(labels=\"condición_op\",axis=1)\n",
    "X_test=X_test.drop(labels=\"condición_op\",axis=1)\n",
    "\n",
    "#Dummies variables setting\n",
    "X_train=pd.get_dummies(data=X_train,columns=settings)\n",
    "X_test=pd.get_dummies(data=X_test,columns=settings)"
   ]
  },
  {
   "cell_type": "code",
   "execution_count": 16,
   "id": "58623899",
   "metadata": {},
   "outputs": [
    {
     "name": "stdout",
     "output_type": "stream",
     "text": [
      "RSME: [23.49 21.61 21.52 20.52 21.23]\n",
      "RSME:  21.67 Desviación estándar:  0.99\n"
     ]
    }
   ],
   "source": [
    "model = LinearRegression()\n",
    "\n",
    "group_shuffle_split = GroupShuffleSplit(n_splits=5, test_size=0.15, random_state=seed)\n",
    "\n",
    "scores = cross_val_score(model, X_train, y_train, groups=groups, cv=group_shuffle_split,scoring=\"neg_root_mean_squared_error\")\n",
    "\n",
    "print (\"RSME:\", -scores.round(2))\n",
    "print(\"RSME: \", -scores.mean().round(2),\"Desviación estándar: \", scores.std().round(2))\n"
   ]
  },
  {
   "cell_type": "markdown",
   "id": "74e0e38d",
   "metadata": {},
   "source": [
    "Dado que se obtuvieron mejores resultados con el escalado por condición operativa se continuará con esta opción (RMSE 21.67 vs 22.00)."
   ]
  },
  {
   "cell_type": "markdown",
   "id": "59de827c",
   "metadata": {},
   "source": [
    "**VARIABLES CATEGÓRICAS - OTRO ENFOQUE**  \n",
    "\n",
    "En cuanto al tratamiento de variables categóricas, hasta ahora se ha empleado la técnica de codificación one-hot para las tres variables en cuestión. Sin embargo, dado que estas variables se combinan de manera exclusiva en tan solo seis condiciones operativas distintas, se explorará el impacto de crear una sola variable que represente la condición operativa. Posteriormente, esta variable será transformada en variables dummies. Esta estrategia también conlleva la ventaja de reducir la cantidad total de variables del conjunto de datos."
   ]
  },
  {
   "cell_type": "code",
   "execution_count": 17,
   "id": "718f5cf1",
   "metadata": {},
   "outputs": [
    {
     "name": "stdout",
     "output_type": "stream",
     "text": [
      "Tamaño X_train = (61249, 27) y Tamaño y_train = (61249,)\n",
      "Tamaño X_test (248, 27) y Tamaño y_test (248, 1)\n"
     ]
    },
    {
     "data": {
      "text/plain": [
       "Index(['s_1', 's_2', 's_3', 's_4', 's_5', 's_6', 's_7', 's_8', 's_9', 's_10',\n",
       "       's_11', 's_12', 's_13', 's_14', 's_15', 's_16', 's_17', 's_18', 's_19',\n",
       "       's_20', 's_21', 'condición_op_0.0_0.0_100.0',\n",
       "       'condición_op_10.0_0.25_100.0', 'condición_op_20.0_0.7_100.0',\n",
       "       'condición_op_25.0_0.62_60.0', 'condición_op_35.0_0.84_100.0',\n",
       "       'condición_op_42.0_0.84_100.0'],\n",
       "      dtype='object')"
      ]
     },
     "execution_count": 17,
     "metadata": {},
     "output_type": "execute_result"
    }
   ],
   "source": [
    "seed=42\n",
    "\n",
    "#Train\n",
    "X_train=RUL_add(train,True,125)\n",
    "groups=X_train.unit_num\n",
    "\n",
    "y_train=X_train.RUL\n",
    "X_train=X_train.drop(labels=[\"RUL\",\"cycle\",\"unit_num\"],axis=1) \n",
    "\n",
    "#Test\n",
    "X_test=test.groupby(\"unit_num\").last().reset_index()\n",
    "X_test=X_test.drop(labels=[\"unit_num\",\"cycle\"],axis=1)\n",
    "\n",
    "#Se crea variable condición operativa\n",
    "X_train[\"condición_op\"] = X_train[\"setting_1\"].astype(str) + \"_\" + \\\n",
    "                        X_train[\"setting_2\"].astype(str) + \"_\" + \\\n",
    "                        X_train[\"setting_3\"].astype(str)\n",
    "\n",
    "X_test[\"condición_op\"] = X_test[\"setting_1\"].astype(str) + \"_\" + \\\n",
    "                        X_test[\"setting_2\"].astype(str) + \"_\" + \\\n",
    "                        X_test[\"setting_3\"].astype(str)\n",
    "#Escalado por condición operativa\n",
    "\n",
    "for cond in X_train[\"condición_op\"].unique(): \n",
    "    filtro=X_train[X_train[\"condición_op\"]==cond]\n",
    "    filtro_test=X_test[X_test[\"condición_op\"]==cond]\n",
    "    scaler = MinMaxScaler()\n",
    "    scaler.fit(filtro[sensor])\n",
    "    X_train.loc[X_train[\"condición_op\"]==cond, sensor]=scaler.transform(filtro[sensor])\n",
    "    X_test.loc[X_test[\"condición_op\"]==cond, sensor]=scaler.transform(filtro_test[sensor])\n",
    "    \n",
    "#Se eliminan las 3 variables setting y se crean variables dummies para la variable condición operativa\n",
    "X_train=X_train.drop(labels=settings,axis=1)\n",
    "X_test=X_test.drop(labels=settings,axis=1)\n",
    "\n",
    "X_train=pd.get_dummies(data=X_train,columns=[\"condición_op\"])\n",
    "X_test=pd.get_dummies(data=X_test,columns=[\"condición_op\"])\n",
    "\n",
    "print(f\"Tamaño X_train = {X_train.shape} y Tamaño y_train = {y_train.shape}\\nTamaño X_test {X_test.shape} y Tamaño y_test {y_test.shape}\")\n",
    "X_train.columns"
   ]
  },
  {
   "cell_type": "code",
   "execution_count": 18,
   "id": "de91e445",
   "metadata": {},
   "outputs": [
    {
     "name": "stdout",
     "output_type": "stream",
     "text": [
      "RSME: [23.48 21.61 21.52 20.52 21.23]\n",
      "RSME:  21.67 Desviación estándar:  0.98\n"
     ]
    }
   ],
   "source": [
    "model = LinearRegression()\n",
    "\n",
    "group_shuffle_split = GroupShuffleSplit(n_splits=5, test_size=0.15, random_state=seed)\n",
    "\n",
    "scores = cross_val_score(model, X_train, y_train, groups=groups, cv=group_shuffle_split,scoring=\"neg_root_mean_squared_error\")\n",
    "\n",
    "print (\"RSME:\", -scores.round(2))\n",
    "print(\"RSME: \", -scores.mean().round(2),\"Desviación estándar: \", scores.std().round(2))"
   ]
  },
  {
   "cell_type": "markdown",
   "id": "7e2e50ca",
   "metadata": {},
   "source": [
    "Como podemos ver arroja el mismo resultado que el escenario anterior (RMSE 21.67). Sin embargo, en este escenario hemos reducido de 34 a 27 las variables. Por tanto, se continúa con la opción de trabajar con una única variable categórica pasada a dummies que resume la condición operativa del equipo."
   ]
  },
  {
   "cell_type": "markdown",
   "id": "dff01024",
   "metadata": {},
   "source": [
    "### SELECCIÓN DE VARIABLES\n",
    "\n",
    "Para dar inicio a la selección de variables se optó por trabajar con un método wrapper, en particular con la *Eliminación Recursiva de Características (RFE)*. La RFE es un proceso iterativo que comienza con todas las variables y, en cada iteración, elimina aquella que se considera menos relevantes. A su vez, para hacer el proceso más robusto se utilizó validación cruzada (RFECV)."
   ]
  },
  {
   "cell_type": "code",
   "execution_count": 72,
   "id": "nlznuZUcuCaZ",
   "metadata": {
    "id": "nlznuZUcuCaZ"
   },
   "outputs": [
    {
     "name": "stdout",
     "output_type": "stream",
     "text": [
      "Número optimo de features: 27\n"
     ]
    },
    {
     "data": {
      "text/plain": [
       "Index([], dtype='object')"
      ]
     },
     "execution_count": 72,
     "metadata": {},
     "output_type": "execute_result"
    }
   ],
   "source": [
    "model=LinearRegression()\n",
    "cv = GroupShuffleSplit(n_splits=5, test_size=0.15, random_state=seed)\n",
    "\n",
    "rfe= RFECV(estimator=model,cv=cv,scoring=\"neg_root_mean_squared_error\")\n",
    "results=rfe.fit(X_train, y_train,groups=groups)\n",
    "\n",
    "print(f\"Número optimo de features: {rfe.n_features_}\")\n",
    "X_train.columns[~results.support_]"
   ]
  },
  {
   "cell_type": "code",
   "execution_count": 73,
   "id": "ll8cHdIu7P5E",
   "metadata": {
    "colab": {
     "base_uri": "https://localhost:8080/",
     "height": 481
    },
    "id": "ll8cHdIu7P5E",
    "outputId": "c118fab4-52f1-4de9-f7eb-b1ae8105235f"
   },
   "outputs": [
    {
     "data": {
      "image/png": "[encoded data removed]",
      "text/plain": [
       "<Figure size 640x480 with 1 Axes>"
      ]
     },
     "metadata": {},
     "output_type": "display_data"
    }
   ],
   "source": [
    "# Graficar el número de variables vs RMSE promedio\n",
    "num_features = range(1, len(results.cv_results_[\"mean_test_score\"]) + 1)\n",
    "mean_scores = results.cv_results_[\"mean_test_score\"]\n",
    "\n",
    "plt.plot(num_features, -mean_scores,color=sns.color_palette(\"flare\")[3])\n",
    "plt.xlabel(\"Número de features\")\n",
    "plt.ylabel(\"RMSE promedio\")\n",
    "plt.show()"
   ]
  },
  {
   "cell_type": "markdown",
   "id": "48826da8",
   "metadata": {},
   "source": [
    "De acuerdo con el resultado de la RFE el número óptimo de variables coincide con las variables totales: 27. Sin embargo si graficamos los resultados se observa claramente que luego de un punto la mejora obtenida adicionando más variables se vuelve muy pequeña. Para seguir profundizando se repitió el procedimiento de Eliminación Recursiva de variables con diferentes semillas:"
   ]
  },
  {
   "cell_type": "code",
   "execution_count": 74,
   "id": "IQa1kamYLrnI",
   "metadata": {
    "colab": {
     "base_uri": "https://localhost:8080/"
    },
    "id": "IQa1kamYLrnI",
    "outputId": "e9242b0c-2814-4bd0-afac-5170597c52ee"
   },
   "outputs": [
    {
     "name": "stdout",
     "output_type": "stream",
     "text": [
      "Repetición 1:\n",
      "Variables rechazadas:\n",
      "Repetición 2:\n",
      "Variables rechazadas:\n",
      "Repetición 3:\n",
      "Variables rechazadas:\n",
      "Repetición 4:\n",
      "Variables rechazadas:\n",
      "Repetición 5:\n",
      "Variables rechazadas:\n",
      "Repetición 6:\n",
      "Variables rechazadas:\n",
      "Repetición 7:\n",
      "Variables rechazadas:\n",
      "Repetición 8:\n",
      "Variables rechazadas:\n",
      "Repetición 9:\n",
      "Variables rechazadas:\n",
      "Repetición 10:\n",
      "Variables rechazadas:\n",
      "Repetición 11:\n",
      "Variables rechazadas:\n",
      "Repetición 12:\n",
      "Variables rechazadas:\n",
      "Repetición 13:\n",
      "Variables rechazadas:\n",
      "s_10\n",
      "Repetición 14:\n",
      "Variables rechazadas:\n",
      "s_10\n",
      "Repetición 15:\n",
      "Variables rechazadas:\n",
      "Repetición 16:\n",
      "Variables rechazadas:\n",
      "Repetición 17:\n",
      "Variables rechazadas:\n",
      "Repetición 18:\n",
      "Variables rechazadas:\n",
      "Repetición 19:\n",
      "Variables rechazadas:\n",
      "s_10\n",
      "Repetición 20:\n",
      "Variables rechazadas:\n",
      "s_10\n"
     ]
    }
   ],
   "source": [
    "model = LinearRegression()\n",
    "\n",
    "# Se repite el proceo con diferentes semillas\n",
    "num_repeats = 20\n",
    "selected_features_list = []\n",
    "rejected_features_list = []\n",
    "\n",
    "for i in range(num_repeats):\n",
    "\n",
    "    # Crear instancia de GroupShuffleSplit con semilla actual\n",
    "    cv = GroupShuffleSplit(n_splits=5, test_size=0.15, random_state=seed+i*1000)\n",
    "    rfe = RFECV(estimator=model, cv=cv, scoring=\"neg_root_mean_squared_error\")\n",
    "\n",
    "    #Realziar el proceso de RFECV:\n",
    "    results = rfe.fit(X_train, y_train, groups=groups)\n",
    "    selected_features = X_train.columns[results.support_]\n",
    "    rejected_features = X_train.columns[~results.support_]\n",
    "    selected_features_list.append(selected_features)\n",
    "    rejected_features_list.append(rejected_features)\n",
    "\n",
    "#Se visualizan los resultados: \n",
    "for i in range(num_repeats):\n",
    "    print(f\"Repetición {i+1}:\")\n",
    "\n",
    "\n",
    "    print(\"Variables rechazadas:\")\n",
    "    for feature in rejected_features_list[i]:\n",
    "        print(feature)"
   ]
  },
  {
   "cell_type": "code",
   "execution_count": 75,
   "id": "TGLArcTvNqH_",
   "metadata": {
    "colab": {
     "base_uri": "https://localhost:8080/"
    },
    "id": "TGLArcTvNqH_",
    "outputId": "109a4333-5146-4780-fb3e-ec9309e4776f"
   },
   "outputs": [
    {
     "name": "stdout",
     "output_type": "stream",
     "text": [
      "        Frecuencia\n",
      "[]              16\n",
      "[s_10]           4\n"
     ]
    }
   ],
   "source": [
    "#Se crea tabla de frencuancia para los resultados de las 20 repeticiones:\n",
    "frecuencia = Counter(tuple(sublista) for sublista in rejected_features_list)\n",
    "tabla_frecuencia = pd.DataFrame.from_dict(frecuencia, orient=\"index\", columns=[\"Frecuencia\"])\n",
    "tabla_frecuencia.index = tabla_frecuencia.index.map(list)\n",
    "\n",
    "print(tabla_frecuencia)"
   ]
  },
  {
   "cell_type": "markdown",
   "id": "r-g99OyuPR8D",
   "metadata": {
    "id": "r-g99OyuPR8D"
   },
   "source": [
    "Luego de repetir el procedimiento con varias semillas vemos que en algunos casos sugiere la eliminación de la variable *s_10*. Se analizará entonces el efecto de eliminar dicha variable.  A su vez, según se detectó previamente, existen variables que están completamente determinadas por la condición operativa del sistema y que por tanto no agregarían información adicional al modelo. Incluirlas como predictoras no sería beneficioso y podría aumentar la complejidad innecesariamente.\n",
    "\n",
    "Lo anterior se visualiza en la siguiente tabla, donde los sensores s_1,s_5,s_18 y s_19 no tienen variación alguna luego de estandarizar por condición:"
   ]
  },
  {
   "cell_type": "code",
   "execution_count": 80,
   "id": "5036222f",
   "metadata": {},
   "outputs": [
    {
     "data": {
      "text/html": [
       "<div>\n",
       "<style scoped>\n",
       "    .dataframe tbody tr th:only-of-type {\n",
       "        vertical-align: middle;\n",
       "    }\n",
       "\n",
       "    .dataframe tbody tr th {\n",
       "        vertical-align: top;\n",
       "    }\n",
       "\n",
       "    .dataframe thead th {\n",
       "        text-align: right;\n",
       "    }\n",
       "</style>\n",
       "<table border=\"1\" class=\"dataframe\">\n",
       "  <thead>\n",
       "    <tr style=\"text-align: right;\">\n",
       "      <th></th>\n",
       "      <th>s_1</th>\n",
       "      <th>s_2</th>\n",
       "      <th>s_3</th>\n",
       "      <th>s_4</th>\n",
       "      <th>s_5</th>\n",
       "      <th>s_6</th>\n",
       "      <th>s_7</th>\n",
       "      <th>s_8</th>\n",
       "      <th>s_9</th>\n",
       "      <th>s_10</th>\n",
       "      <th>...</th>\n",
       "      <th>s_12</th>\n",
       "      <th>s_13</th>\n",
       "      <th>s_14</th>\n",
       "      <th>s_15</th>\n",
       "      <th>s_16</th>\n",
       "      <th>s_17</th>\n",
       "      <th>s_18</th>\n",
       "      <th>s_19</th>\n",
       "      <th>s_20</th>\n",
       "      <th>s_21</th>\n",
       "    </tr>\n",
       "  </thead>\n",
       "  <tbody>\n",
       "    <tr>\n",
       "      <th>count</th>\n",
       "      <td>61249.0</td>\n",
       "      <td>61249.000000</td>\n",
       "      <td>61249.000000</td>\n",
       "      <td>61249.000000</td>\n",
       "      <td>61249.0</td>\n",
       "      <td>61249.000000</td>\n",
       "      <td>61249.000000</td>\n",
       "      <td>61249.000000</td>\n",
       "      <td>61249.000000</td>\n",
       "      <td>61249.000000</td>\n",
       "      <td>...</td>\n",
       "      <td>61249.000000</td>\n",
       "      <td>61249.000000</td>\n",
       "      <td>61249.000000</td>\n",
       "      <td>61249.000000</td>\n",
       "      <td>61249.000000</td>\n",
       "      <td>61249.000000</td>\n",
       "      <td>61249.0</td>\n",
       "      <td>61249.0</td>\n",
       "      <td>61249.000000</td>\n",
       "      <td>61249.000000</td>\n",
       "    </tr>\n",
       "    <tr>\n",
       "      <th>mean</th>\n",
       "      <td>0.0</td>\n",
       "      <td>0.452780</td>\n",
       "      <td>0.456710</td>\n",
       "      <td>0.450130</td>\n",
       "      <td>0.0</td>\n",
       "      <td>0.747892</td>\n",
       "      <td>0.325508</td>\n",
       "      <td>0.366669</td>\n",
       "      <td>0.233626</td>\n",
       "      <td>0.325457</td>\n",
       "      <td>...</td>\n",
       "      <td>0.316979</td>\n",
       "      <td>0.368822</td>\n",
       "      <td>0.265071</td>\n",
       "      <td>0.578291</td>\n",
       "      <td>0.174419</td>\n",
       "      <td>0.455573</td>\n",
       "      <td>0.0</td>\n",
       "      <td>0.0</td>\n",
       "      <td>0.462361</td>\n",
       "      <td>0.465415</td>\n",
       "    </tr>\n",
       "    <tr>\n",
       "      <th>std</th>\n",
       "      <td>0.0</td>\n",
       "      <td>0.142170</td>\n",
       "      <td>0.143998</td>\n",
       "      <td>0.159512</td>\n",
       "      <td>0.0</td>\n",
       "      <td>0.229653</td>\n",
       "      <td>0.148305</td>\n",
       "      <td>0.168859</td>\n",
       "      <td>0.106963</td>\n",
       "      <td>0.157175</td>\n",
       "      <td>...</td>\n",
       "      <td>0.148988</td>\n",
       "      <td>0.175213</td>\n",
       "      <td>0.099790</td>\n",
       "      <td>0.154062</td>\n",
       "      <td>0.379473</td>\n",
       "      <td>0.156207</td>\n",
       "      <td>0.0</td>\n",
       "      <td>0.0</td>\n",
       "      <td>0.133552</td>\n",
       "      <td>0.135428</td>\n",
       "    </tr>\n",
       "    <tr>\n",
       "      <th>min</th>\n",
       "      <td>0.0</td>\n",
       "      <td>0.000000</td>\n",
       "      <td>0.000000</td>\n",
       "      <td>0.000000</td>\n",
       "      <td>0.0</td>\n",
       "      <td>0.000000</td>\n",
       "      <td>0.000000</td>\n",
       "      <td>0.000000</td>\n",
       "      <td>0.000000</td>\n",
       "      <td>0.000000</td>\n",
       "      <td>...</td>\n",
       "      <td>0.000000</td>\n",
       "      <td>0.000000</td>\n",
       "      <td>0.000000</td>\n",
       "      <td>0.000000</td>\n",
       "      <td>0.000000</td>\n",
       "      <td>0.000000</td>\n",
       "      <td>0.0</td>\n",
       "      <td>0.0</td>\n",
       "      <td>0.000000</td>\n",
       "      <td>0.000000</td>\n",
       "    </tr>\n",
       "    <tr>\n",
       "      <th>25%</th>\n",
       "      <td>0.0</td>\n",
       "      <td>0.352239</td>\n",
       "      <td>0.355853</td>\n",
       "      <td>0.333399</td>\n",
       "      <td>0.0</td>\n",
       "      <td>0.600000</td>\n",
       "      <td>0.228496</td>\n",
       "      <td>0.254098</td>\n",
       "      <td>0.164702</td>\n",
       "      <td>0.200000</td>\n",
       "      <td>...</td>\n",
       "      <td>0.226804</td>\n",
       "      <td>0.253906</td>\n",
       "      <td>0.200505</td>\n",
       "      <td>0.494503</td>\n",
       "      <td>0.000000</td>\n",
       "      <td>0.363636</td>\n",
       "      <td>0.0</td>\n",
       "      <td>0.0</td>\n",
       "      <td>0.373737</td>\n",
       "      <td>0.375603</td>\n",
       "    </tr>\n",
       "    <tr>\n",
       "      <th>50%</th>\n",
       "      <td>0.0</td>\n",
       "      <td>0.441860</td>\n",
       "      <td>0.448547</td>\n",
       "      <td>0.435434</td>\n",
       "      <td>0.0</td>\n",
       "      <td>0.818182</td>\n",
       "      <td>0.302564</td>\n",
       "      <td>0.318471</td>\n",
       "      <td>0.211594</td>\n",
       "      <td>0.333333</td>\n",
       "      <td>...</td>\n",
       "      <td>0.287172</td>\n",
       "      <td>0.319672</td>\n",
       "      <td>0.245386</td>\n",
       "      <td>0.596868</td>\n",
       "      <td>0.000000</td>\n",
       "      <td>0.454545</td>\n",
       "      <td>0.0</td>\n",
       "      <td>0.0</td>\n",
       "      <td>0.458333</td>\n",
       "      <td>0.461340</td>\n",
       "    </tr>\n",
       "    <tr>\n",
       "      <th>75%</th>\n",
       "      <td>0.0</td>\n",
       "      <td>0.543605</td>\n",
       "      <td>0.550670</td>\n",
       "      <td>0.552065</td>\n",
       "      <td>0.0</td>\n",
       "      <td>0.909091</td>\n",
       "      <td>0.375641</td>\n",
       "      <td>0.426230</td>\n",
       "      <td>0.271548</td>\n",
       "      <td>0.400000</td>\n",
       "      <td>...</td>\n",
       "      <td>0.359450</td>\n",
       "      <td>0.424920</td>\n",
       "      <td>0.302596</td>\n",
       "      <td>0.680556</td>\n",
       "      <td>0.000000</td>\n",
       "      <td>0.545455</td>\n",
       "      <td>0.0</td>\n",
       "      <td>0.0</td>\n",
       "      <td>0.546296</td>\n",
       "      <td>0.550475</td>\n",
       "    </tr>\n",
       "    <tr>\n",
       "      <th>max</th>\n",
       "      <td>0.0</td>\n",
       "      <td>1.000000</td>\n",
       "      <td>1.000000</td>\n",
       "      <td>1.000000</td>\n",
       "      <td>0.0</td>\n",
       "      <td>1.000000</td>\n",
       "      <td>1.000000</td>\n",
       "      <td>1.000000</td>\n",
       "      <td>1.000000</td>\n",
       "      <td>1.000000</td>\n",
       "      <td>...</td>\n",
       "      <td>1.000000</td>\n",
       "      <td>1.000000</td>\n",
       "      <td>1.000000</td>\n",
       "      <td>1.000000</td>\n",
       "      <td>1.000000</td>\n",
       "      <td>1.000000</td>\n",
       "      <td>0.0</td>\n",
       "      <td>0.0</td>\n",
       "      <td>1.000000</td>\n",
       "      <td>1.000000</td>\n",
       "    </tr>\n",
       "  </tbody>\n",
       "</table>\n",
       "<p>8 rows × 21 columns</p>\n",
       "</div>"
      ],
      "text/plain": [
       "           s_1           s_2           s_3           s_4      s_5  \\\n",
       "count  61249.0  61249.000000  61249.000000  61249.000000  61249.0   \n",
       "mean       0.0      0.452780      0.456710      0.450130      0.0   \n",
       "std        0.0      0.142170      0.143998      0.159512      0.0   \n",
       "min        0.0      0.000000      0.000000      0.000000      0.0   \n",
       "25%        0.0      0.352239      0.355853      0.333399      0.0   \n",
       "50%        0.0      0.441860      0.448547      0.435434      0.0   \n",
       "75%        0.0      0.543605      0.550670      0.552065      0.0   \n",
       "max        0.0      1.000000      1.000000      1.000000      0.0   \n",
       "\n",
       "                s_6           s_7           s_8           s_9          s_10  \\\n",
       "count  61249.000000  61249.000000  61249.000000  61249.000000  61249.000000   \n",
       "mean       0.747892      0.325508      0.366669      0.233626      0.325457   \n",
       "std        0.229653      0.148305      0.168859      0.106963      0.157175   \n",
       "min        0.000000      0.000000      0.000000      0.000000      0.000000   \n",
       "25%        0.600000      0.228496      0.254098      0.164702      0.200000   \n",
       "50%        0.818182      0.302564      0.318471      0.211594      0.333333   \n",
       "75%        0.909091      0.375641      0.426230      0.271548      0.400000   \n",
       "max        1.000000      1.000000      1.000000      1.000000      1.000000   \n",
       "\n",
       "       ...          s_12          s_13          s_14          s_15  \\\n",
       "count  ...  61249.000000  61249.000000  61249.000000  61249.000000   \n",
       "mean   ...      0.316979      0.368822      0.265071      0.578291   \n",
       "std    ...      0.148988      0.175213      0.099790      0.154062   \n",
       "min    ...      0.000000      0.000000      0.000000      0.000000   \n",
       "25%    ...      0.226804      0.253906      0.200505      0.494503   \n",
       "50%    ...      0.287172      0.319672      0.245386      0.596868   \n",
       "75%    ...      0.359450      0.424920      0.302596      0.680556   \n",
       "max    ...      1.000000      1.000000      1.000000      1.000000   \n",
       "\n",
       "               s_16          s_17     s_18     s_19          s_20  \\\n",
       "count  61249.000000  61249.000000  61249.0  61249.0  61249.000000   \n",
       "mean       0.174419      0.455573      0.0      0.0      0.462361   \n",
       "std        0.379473      0.156207      0.0      0.0      0.133552   \n",
       "min        0.000000      0.000000      0.0      0.0      0.000000   \n",
       "25%        0.000000      0.363636      0.0      0.0      0.373737   \n",
       "50%        0.000000      0.454545      0.0      0.0      0.458333   \n",
       "75%        0.000000      0.545455      0.0      0.0      0.546296   \n",
       "max        1.000000      1.000000      0.0      0.0      1.000000   \n",
       "\n",
       "               s_21  \n",
       "count  61249.000000  \n",
       "mean       0.465415  \n",
       "std        0.135428  \n",
       "min        0.000000  \n",
       "25%        0.375603  \n",
       "50%        0.461340  \n",
       "75%        0.550475  \n",
       "max        1.000000  \n",
       "\n",
       "[8 rows x 21 columns]"
      ]
     },
     "execution_count": 80,
     "metadata": {},
     "output_type": "execute_result"
    }
   ],
   "source": [
    "X_train[sensor].describe()"
   ]
  },
  {
   "cell_type": "markdown",
   "id": "d3481cc0",
   "metadata": {},
   "source": [
    "En este punto, para que la toma de decisiones en lo referente a selección de variables sea lo más robusta posible, se trabajó con un enfoque de validación cruzada repetida. Es decir, no solo se aplica validación cruzada estándar, sino que también se realizan múltiples repeticiones, permitiendo diferentes particiones aleatorias de los datos en cada iteración. De esta forma se obtendrá una evaluación más sólida.\n",
    "\n",
    "Para lograr esto se creó una función con tal propósito, que podrá aplicarse a cualquier modelo, no solo a una Regresión Lineal.\n"
   ]
  },
  {
   "cell_type": "code",
   "execution_count": 76,
   "id": "-XPVLZhcOjZ-",
   "metadata": {
    "id": "-XPVLZhcOjZ-"
   },
   "outputs": [],
   "source": [
    "def Group_Shuffle_Split_repetido(model,X_train,y_train,n_splits,test_size,groups,seed,n_repeats):\n",
    "    scores = []\n",
    "\n",
    "    for repeat in range(n_repeats):\n",
    "        #Generar una semilla única para cada repetición\n",
    "        seed_repeat = seed + repeat\n",
    "        #Generar los diferentes splits\n",
    "        group_shuffle_split = GroupShuffleSplit(n_splits=n_splits, test_size=test_size, random_state=seed_repeat)\n",
    "\n",
    "        for train_index, test_index in group_shuffle_split.split(X_train, y_train, groups=groups):\n",
    "            X_train_fold, X_test_fold = X_train.iloc[train_index], X_train.iloc[test_index]\n",
    "            y_train_fold, y_test_fold = y_train.iloc[train_index], y_train.iloc[test_index]\n",
    "        \n",
    "            #Entrenar y evaluar el modelo. \n",
    "            model.fit(X_train_fold, y_train_fold)\n",
    "            y_pred = model.predict(X_test_fold)\n",
    "            score = mean_squared_error(y_test_fold, y_pred, squared=False) #Calcular RMSE\n",
    "            #almacenar los resultados \n",
    "            scores.append(score.round(2))\n",
    "\n",
    "    scores = np.array(scores)\n",
    "    return scores"
   ]
  },
  {
   "cell_type": "markdown",
   "id": "a14d48b3",
   "metadata": {},
   "source": [
    "Se procede a comparar el resultado de un modelo de regresión lineal con:\n",
    "- Todas las variables (score_0)\n",
    "- Todas las variables menos el sensor_10 recomendado por RFE (score_1)\n",
    "- Todas las variables menos sensores 1, 5, 18 y 19 (score_2)\n",
    "- Todas las variables menos sensores 1, 5, 10, 18 y 19 (score_3)"
   ]
  },
  {
   "cell_type": "code",
   "execution_count": 77,
   "id": "V4bluFrpfMhG",
   "metadata": {
    "id": "V4bluFrpfMhG"
   },
   "outputs": [],
   "source": [
    "model = LinearRegression()\n",
    "n_splits = 5  #Número de splits en cada repetición\n",
    "n_repeats = 10  #Número de repeticiones\n",
    "test_size = 0.15  #Tamaño de la muestra de prueba en cada split\n",
    "seed = seed  #semilla inicial\n",
    "\n",
    "#Resultados dejando todas las variables\n",
    "scores_0=Group_Shuffle_Split_repetido(model,X_train,y_train,n_splits,test_size,groups,seed,n_repeats)\n",
    "\n",
    "\n",
    "#Resultado eliminando los siguientes conjuntos de variables \n",
    "variables_a_eliminar = [[\"s_10\"],\n",
    "                        [\"s_1\", \"s_5\", \"s_18\", \"s_19\"],\n",
    "                        [\"s_1\", \"s_5\", \"s_18\", \"s_19\",\"s_10\"]]\n",
    "\n",
    "resultados = {}\n",
    "\n",
    "for i, var in enumerate(variables_a_eliminar):\n",
    "    nombre_variable = f\"score_{i+1}\"\n",
    "    resultados[nombre_variable] = Group_Shuffle_Split_repetido(model, X_train.drop(var, axis=1), y_train, n_splits, test_size, groups, seed, n_repeats)\n"
   ]
  },
  {
   "cell_type": "code",
   "execution_count": 83,
   "id": "EQ4eHxoRozxd",
   "metadata": {
    "colab": {
     "base_uri": "https://localhost:8080/",
     "height": 300
    },
    "id": "EQ4eHxoRozxd",
    "outputId": "a8ff1a7b-4968-4245-f4b1-18c11d7a1c67"
   },
   "outputs": [
    {
     "data": {
      "text/plain": [
       "<AxesSubplot: >"
      ]
     },
     "execution_count": 83,
     "metadata": {},
     "output_type": "execute_result"
    },
    {
     "data": {
      "image/png": "[encoded data removed]",
      "text/plain": [
       "<Figure size 640x480 with 1 Axes>"
      ]
     },
     "metadata": {},
     "output_type": "display_data"
    }
   ],
   "source": [
    "resultados=pd.DataFrame(resultados)\n",
    "resultados[\"scores_0\"]=scores_0\n",
    "sns.set(style=\"whitegrid\", palette=\"flare\")\n",
    "sns.boxplot(data=resultados)"
   ]
  },
  {
   "cell_type": "code",
   "execution_count": 85,
   "id": "8d1423af",
   "metadata": {
    "id": "HMnP49j2ptia"
   },
   "outputs": [
    {
     "data": {
      "text/plain": [
       "score_1     21.3338\n",
       "score_2     21.3336\n",
       "score_3     21.3348\n",
       "scores_0    21.3334\n",
       "dtype: float64"
      ]
     },
     "execution_count": 85,
     "metadata": {},
     "output_type": "execute_result"
    }
   ],
   "source": [
    "resultados.mean()"
   ]
  },
  {
   "cell_type": "markdown",
   "id": "d43e4f53",
   "metadata": {},
   "source": [
    "Como podemos ver la eliminación de dichas variables no empeora los resultados obtenidos. Antes de proceder a su eliminación, se repitió el mismo procedimiento, pero con un modelo más complejo y flexible como es el Random Forest. Este modelo puede capturar relaciones no lineales e interacciones entre variables de manera más efectiva que la regresión lineal. La idea es combinar ambos enfoques para tener una visión más completa sobre el impacto de las diferentes variables y por tanto tomar decisiones más sólidas en cuanto a la selección de features. A su vez, se considera pertinente ya que, dada la naturaleza de los datos, se espera la existencia de relaciones no lineales."
   ]
  },
  {
   "cell_type": "code",
   "execution_count": 79,
   "id": "eb63ed27",
   "metadata": {},
   "outputs": [
    {
     "data": {
      "text/plain": [
       "<AxesSubplot: >"
      ]
     },
     "execution_count": 79,
     "metadata": {},
     "output_type": "execute_result"
    },
    {
     "data": {
      "image/png": "[encoded data removed]",
      "text/plain": [
       "<Figure size 640x480 with 1 Axes>"
      ]
     },
     "metadata": {},
     "output_type": "display_data"
    }
   ],
   "source": [
    "model = RandomForestRegressor(random_state=seed,n_jobs=-1)\n",
    "n_splits = 5  \n",
    "n_repeats = 10\n",
    "test_size = 0.15\n",
    "seed = seed\n",
    "\n",
    "#Resultados dejando todas las variables\n",
    "scores_0=Group_Shuffle_Split_repetido(model,X_train,y_train,n_splits,test_size,groups,seed,n_repeats)\n",
    "\n",
    "\n",
    "#Resultado eliminando los siguientes conjuntos de variables \n",
    "variables_a_eliminar = [[\"s_10\"],\n",
    "                        [\"s_1\", \"s_5\", \"s_18\", \"s_19\"],\n",
    "                        [\"s_1\", \"s_5\", \"s_18\", \"s_19\",\"s_10\"]]\n",
    "\n",
    "resultados_RF = {} \n",
    "\n",
    "for i, var in enumerate(variables_a_eliminar):\n",
    "    nombre_variable = f\"score_{i+1}\"\n",
    "    resultados_RF[nombre_variable] = Group_Shuffle_Split_repetido(model, X_train.drop(var, axis=1), y_train, n_splits, test_size, groups, seed, n_repeats)\n",
    "\n",
    "resultados_RF=pd.DataFrame(resultados_RF)\n",
    "resultados_RF[\"scores_0\"]=scores_0\n",
    "sns.set(style=\"whitegrid\", palette=\"flare\")\n",
    "sns.boxplot(data=resultados_RF)"
   ]
  },
  {
   "cell_type": "code",
   "execution_count": 80,
   "id": "6bc0b0cd",
   "metadata": {},
   "outputs": [
    {
     "data": {
      "text/plain": [
       "score_1     18.2762\n",
       "score_2     18.2724\n",
       "score_3     18.2714\n",
       "scores_0    18.2742\n",
       "dtype: float64"
      ]
     },
     "execution_count": 80,
     "metadata": {},
     "output_type": "execute_result"
    }
   ],
   "source": [
    "resultados_RF.mean()"
   ]
  },
  {
   "cell_type": "markdown",
   "id": "7aa734cf",
   "metadata": {
    "colab": {
     "base_uri": "https://localhost:8080/"
    },
    "id": "jgrnUerRp2kv",
    "outputId": "9d38f0d5-3111-4cf5-ff8e-6de01a0e0252"
   },
   "source": [
    "Nuevamente, la eliminación de las variables no empeora el resultado obtenido. Avanzamos entonces quitando esos 5 sensores: 1,5,10,18 y 19"
   ]
  },
  {
   "cell_type": "code",
   "execution_count": 19,
   "id": "41a65a69",
   "metadata": {},
   "outputs": [],
   "source": [
    "sensores_a_eliminar = [\"s_1\", \"s_5\", \"s_18\", \"s_19\",\"s_10\"]\n",
    "X_train=X_train.drop(labels=sensores_a_eliminar,axis=1)\n",
    "X_test=X_test.drop(labels=sensores_a_eliminar,axis=1)\n",
    "\n",
    "sensor = list(set(sensor) - set(sensores_a_eliminar))"
   ]
  },
  {
   "cell_type": "markdown",
   "id": "1569be55",
   "metadata": {
    "id": "1569be55"
   },
   "source": [
    "### INGENIERÍA DE VARIABLES"
   ]
  },
  {
   "cell_type": "markdown",
   "id": "1052132c",
   "metadata": {
    "colab": {
     "base_uri": "https://localhost:8080/",
     "height": 487
    },
    "id": "YAV05CcMbszP",
    "outputId": "2c70fef4-639f-4809-bb00-b8a2a01ad953"
   },
   "source": [
    "Una técnica de ingeniería de características muy útil es crear combinaciones polinomiales de las variables, las cuales pueden revelar patrones en los datos que no son evidentes a partir de las características originales. En este caso se crearon nuevas variables con combinaciones polinomiales de segundo grado ([a, b] -> [1, a, b, a^2, ab, b^2]). "
   ]
  },
  {
   "cell_type": "code",
   "execution_count": 102,
   "id": "bdee2233",
   "metadata": {
    "colab": {
     "base_uri": "https://localhost:8080/"
    },
    "id": "bdee2233",
    "outputId": "e48e0d40-43c0-4b1a-c296-9d35a2e8d421"
   },
   "outputs": [],
   "source": [
    "poly = PolynomialFeatures(2,interaction_only=False)\n",
    "\n",
    "X_train_transformed= poly.fit_transform(X_train[sensor])\n",
    "X_test_transformed = poly.fit_transform(X_test[sensor])\n",
    "\n",
    "col_nombres = poly.get_feature_names_out()\n",
    "X_train_transformed = pd.DataFrame(X_train_transformed, columns=col_nombres)\n",
    "X_test_transformed = pd.DataFrame(X_test_transformed, columns=col_nombres)"
   ]
  },
  {
   "cell_type": "code",
   "execution_count": 103,
   "id": "UYB3TJy-YWiH",
   "metadata": {
    "id": "UYB3TJy-YWiH"
   },
   "outputs": [
    {
     "name": "stdout",
     "output_type": "stream",
     "text": [
      "X_train: (61249, 22)\n",
      "X_test:(248, 22)\n",
      "X_train_transfomed: (61249, 159)\n",
      "{X_test_transformed.shape}\n"
     ]
    },
    {
     "data": {
      "text/html": [
       "<div>\n",
       "<style scoped>\n",
       "    .dataframe tbody tr th:only-of-type {\n",
       "        vertical-align: middle;\n",
       "    }\n",
       "\n",
       "    .dataframe tbody tr th {\n",
       "        vertical-align: top;\n",
       "    }\n",
       "\n",
       "    .dataframe thead th {\n",
       "        text-align: right;\n",
       "    }\n",
       "</style>\n",
       "<table border=\"1\" class=\"dataframe\">\n",
       "  <thead>\n",
       "    <tr style=\"text-align: right;\">\n",
       "      <th></th>\n",
       "      <th>1</th>\n",
       "      <th>s_17</th>\n",
       "      <th>s_21</th>\n",
       "      <th>s_9</th>\n",
       "      <th>s_14</th>\n",
       "      <th>s_4</th>\n",
       "      <th>s_15</th>\n",
       "      <th>s_6</th>\n",
       "      <th>s_2</th>\n",
       "      <th>s_20</th>\n",
       "      <th>...</th>\n",
       "      <th>s_13 s_16</th>\n",
       "      <th>s_7^2</th>\n",
       "      <th>s_7 s_16</th>\n",
       "      <th>s_16^2</th>\n",
       "      <th>condición_op_0.0_0.0_100.0</th>\n",
       "      <th>condición_op_10.0_0.25_100.0</th>\n",
       "      <th>condición_op_20.0_0.7_100.0</th>\n",
       "      <th>condición_op_25.0_0.62_60.0</th>\n",
       "      <th>condición_op_35.0_0.84_100.0</th>\n",
       "      <th>condición_op_42.0_0.84_100.0</th>\n",
       "    </tr>\n",
       "  </thead>\n",
       "  <tbody>\n",
       "    <tr>\n",
       "      <th>0</th>\n",
       "      <td>1.0</td>\n",
       "      <td>0.363636</td>\n",
       "      <td>0.473138</td>\n",
       "      <td>0.141023</td>\n",
       "      <td>0.175935</td>\n",
       "      <td>0.278866</td>\n",
       "      <td>0.602638</td>\n",
       "      <td>0.600000</td>\n",
       "      <td>0.500000</td>\n",
       "      <td>0.460000</td>\n",
       "      <td>...</td>\n",
       "      <td>0.0</td>\n",
       "      <td>0.023276</td>\n",
       "      <td>0.0</td>\n",
       "      <td>0.0</td>\n",
       "      <td>0</td>\n",
       "      <td>0</td>\n",
       "      <td>0</td>\n",
       "      <td>0</td>\n",
       "      <td>0</td>\n",
       "      <td>1</td>\n",
       "    </tr>\n",
       "    <tr>\n",
       "      <th>1</th>\n",
       "      <td>1.0</td>\n",
       "      <td>0.090909</td>\n",
       "      <td>0.380397</td>\n",
       "      <td>0.133347</td>\n",
       "      <td>0.115529</td>\n",
       "      <td>0.217594</td>\n",
       "      <td>0.577645</td>\n",
       "      <td>0.454545</td>\n",
       "      <td>0.113433</td>\n",
       "      <td>0.297710</td>\n",
       "      <td>...</td>\n",
       "      <td>0.0</td>\n",
       "      <td>0.024426</td>\n",
       "      <td>0.0</td>\n",
       "      <td>0.0</td>\n",
       "      <td>0</td>\n",
       "      <td>0</td>\n",
       "      <td>1</td>\n",
       "      <td>0</td>\n",
       "      <td>0</td>\n",
       "      <td>0</td>\n",
       "    </tr>\n",
       "    <tr>\n",
       "      <th>2</th>\n",
       "      <td>1.0</td>\n",
       "      <td>0.272727</td>\n",
       "      <td>0.564017</td>\n",
       "      <td>0.113508</td>\n",
       "      <td>0.125431</td>\n",
       "      <td>0.349656</td>\n",
       "      <td>0.741138</td>\n",
       "      <td>0.400000</td>\n",
       "      <td>0.287791</td>\n",
       "      <td>0.320000</td>\n",
       "      <td>...</td>\n",
       "      <td>0.0</td>\n",
       "      <td>0.066405</td>\n",
       "      <td>0.0</td>\n",
       "      <td>0.0</td>\n",
       "      <td>0</td>\n",
       "      <td>0</td>\n",
       "      <td>0</td>\n",
       "      <td>0</td>\n",
       "      <td>0</td>\n",
       "      <td>1</td>\n",
       "    </tr>\n",
       "    <tr>\n",
       "      <th>3</th>\n",
       "      <td>1.0</td>\n",
       "      <td>0.181818</td>\n",
       "      <td>0.557824</td>\n",
       "      <td>0.147144</td>\n",
       "      <td>0.183440</td>\n",
       "      <td>0.366495</td>\n",
       "      <td>0.609646</td>\n",
       "      <td>0.600000</td>\n",
       "      <td>0.215116</td>\n",
       "      <td>0.380000</td>\n",
       "      <td>...</td>\n",
       "      <td>0.0</td>\n",
       "      <td>0.053848</td>\n",
       "      <td>0.0</td>\n",
       "      <td>0.0</td>\n",
       "      <td>0</td>\n",
       "      <td>0</td>\n",
       "      <td>0</td>\n",
       "      <td>0</td>\n",
       "      <td>0</td>\n",
       "      <td>1</td>\n",
       "    </tr>\n",
       "    <tr>\n",
       "      <th>4</th>\n",
       "      <td>1.0</td>\n",
       "      <td>0.333333</td>\n",
       "      <td>0.625683</td>\n",
       "      <td>0.086859</td>\n",
       "      <td>0.171331</td>\n",
       "      <td>0.181548</td>\n",
       "      <td>0.507187</td>\n",
       "      <td>0.400000</td>\n",
       "      <td>0.220641</td>\n",
       "      <td>0.222222</td>\n",
       "      <td>...</td>\n",
       "      <td>0.0</td>\n",
       "      <td>0.056509</td>\n",
       "      <td>0.0</td>\n",
       "      <td>0.0</td>\n",
       "      <td>0</td>\n",
       "      <td>0</td>\n",
       "      <td>0</td>\n",
       "      <td>1</td>\n",
       "      <td>0</td>\n",
       "      <td>0</td>\n",
       "    </tr>\n",
       "  </tbody>\n",
       "</table>\n",
       "<p>5 rows × 159 columns</p>\n",
       "</div>"
      ],
      "text/plain": [
       "     1      s_17      s_21       s_9      s_14       s_4      s_15       s_6  \\\n",
       "0  1.0  0.363636  0.473138  0.141023  0.175935  0.278866  0.602638  0.600000   \n",
       "1  1.0  0.090909  0.380397  0.133347  0.115529  0.217594  0.577645  0.454545   \n",
       "2  1.0  0.272727  0.564017  0.113508  0.125431  0.349656  0.741138  0.400000   \n",
       "3  1.0  0.181818  0.557824  0.147144  0.183440  0.366495  0.609646  0.600000   \n",
       "4  1.0  0.333333  0.625683  0.086859  0.171331  0.181548  0.507187  0.400000   \n",
       "\n",
       "        s_2      s_20  ...  s_13 s_16     s_7^2  s_7 s_16  s_16^2  \\\n",
       "0  0.500000  0.460000  ...        0.0  0.023276       0.0     0.0   \n",
       "1  0.113433  0.297710  ...        0.0  0.024426       0.0     0.0   \n",
       "2  0.287791  0.320000  ...        0.0  0.066405       0.0     0.0   \n",
       "3  0.215116  0.380000  ...        0.0  0.053848       0.0     0.0   \n",
       "4  0.220641  0.222222  ...        0.0  0.056509       0.0     0.0   \n",
       "\n",
       "   condición_op_0.0_0.0_100.0  condición_op_10.0_0.25_100.0  \\\n",
       "0                           0                             0   \n",
       "1                           0                             0   \n",
       "2                           0                             0   \n",
       "3                           0                             0   \n",
       "4                           0                             0   \n",
       "\n",
       "   condición_op_20.0_0.7_100.0  condición_op_25.0_0.62_60.0  \\\n",
       "0                            0                            0   \n",
       "1                            1                            0   \n",
       "2                            0                            0   \n",
       "3                            0                            0   \n",
       "4                            0                            1   \n",
       "\n",
       "   condición_op_35.0_0.84_100.0  condición_op_42.0_0.84_100.0  \n",
       "0                             0                             1  \n",
       "1                             0                             0  \n",
       "2                             0                             1  \n",
       "3                             0                             1  \n",
       "4                             0                             0  \n",
       "\n",
       "[5 rows x 159 columns]"
      ]
     },
     "execution_count": 103,
     "metadata": {},
     "output_type": "execute_result"
    }
   ],
   "source": [
    "settings=[\"condición_op_0.0_0.0_100.0\", \"condición_op_10.0_0.25_100.0\",\n",
    "         \"condición_op_20.0_0.7_100.0\", \"condición_op_25.0_0.62_60.0\",\n",
    "         \"condición_op_35.0_0.84_100.0\", \"condición_op_42.0_0.84_100.0\"]\n",
    "\n",
    "X_train_transformed=pd.concat([X_train_transformed,X_train[settings]],axis=1)\n",
    "X_test_transformed=pd.concat([X_test_transformed,X_test[settings]],axis=1)\n",
    "\n",
    "print(f\"X_train: {X_train.shape}\")\n",
    "print(f\"X_test:{X_test.shape}\")\n",
    "print(f\"X_train_transfomed: {X_train_transformed.shape}\")\n",
    "print(\"{X_test_transformed.shape}\")\n",
    "\n",
    "X_train_transformed.head()"
   ]
  },
  {
   "cell_type": "markdown",
   "id": "611fc75e",
   "metadata": {},
   "source": [
    "La transformación anterior conduce a un aumento significativo de la cantidad de variables, pasando de 22 a 159, con un consecuente aumento en la complejidad del modelo. Para evitar esto se seleccionan solo aquellas variables transformadas más significativas. Lo anterior se llevó a cabo utilizando SelectKBest para seleccionar las k mejores variables en función de cuánta información mutua proporcionan para predecir la variable objetivo. La función mutual_info_regression calcula cuánta información comparten las características con el objetivo. El proceso ayuda a identificar las variables más relevantes para mejorar el rendimiento del modelo de regresión al enfocarse en las relaciones más informativas entre las variables y el objetivo."
   ]
  },
  {
   "cell_type": "code",
   "execution_count": 104,
   "id": "o0v14bG9jqti",
   "metadata": {
    "id": "o0v14bG9jqti"
   },
   "outputs": [
    {
     "name": "stdout",
     "output_type": "stream",
     "text": [
      "      variable     score\n",
      "82    s_4 s_11  0.464396\n",
      "28   s_17 s_11  0.462659\n",
      "139   s_11 s_3  0.449256\n",
      "12        s_11  0.441310\n",
      "138     s_11^2  0.438658\n",
      "57    s_9 s_11  0.430493\n",
      "87      s_15^2  0.417234\n",
      "21    s_17 s_4  0.416818\n",
      "6         s_15  0.416234\n",
      "83     s_4 s_3  0.414953\n"
     ]
    }
   ],
   "source": [
    "test=SelectKBest(score_func= mutual_info_regression)\n",
    "result=test.fit(X_train_transformed,y_train)\n",
    "\n",
    "#Ver las 10 mejores\n",
    "PD_Results=pd.DataFrame(zip(X_train_transformed.columns,result.scores_),columns=(\"variable\",\"score\"))\n",
    "pd.set_option(\"display.max_rows\", None)\n",
    "print(PD_Results.sort_values(\"score\",ascending=False).head(10))"
   ]
  },
  {
   "cell_type": "markdown",
   "id": "cb636151",
   "metadata": {},
   "source": [
    "Se seleccionan las primeras 5 variables *transformadas* y se adicionan al conjunto de datos de entrenamiento: "
   ]
  },
  {
   "cell_type": "code",
   "execution_count": 106,
   "id": "1vG-CBkalUF-",
   "metadata": {
    "id": "1vG-CBkalUF-"
   },
   "outputs": [],
   "source": [
    "X_train[\"s_4 s_11\"]=X_train_transformed[\"s_4 s_11\"]\n",
    "X_train[\"s_17 s_11\"]=X_train_transformed[\"s_17 s_11\"]\n",
    "X_train[\"s_11 s_3\"]=X_train_transformed[\"s_11 s_3\"]\n",
    "X_train[\"s_11^2\"]=X_train_transformed[\"s_11^2\"]\n",
    "X_train[\"s_9 s_11\"]=X_train_transformed[\"s_9 s_11\"]"
   ]
  },
  {
   "cell_type": "markdown",
   "id": "c262d5eb",
   "metadata": {
    "id": "5qyW9ABOlT7m"
   },
   "source": [
    "A continuación, se evalúa el resultado de la adición de estas 5 variables, utilizando  el mismo esquema de trabajo que se utilizó anteriormente (5 splits, val_size 15% y 10 repeticiones). De igual forma, se realizó con un modelo de regresión lineal y un modelo tipo Random Forest. "
   ]
  },
  {
   "cell_type": "code",
   "execution_count": 117,
   "id": "be7a1181",
   "metadata": {},
   "outputs": [
    {
     "data": {
      "text/plain": [
       "<AxesSubplot: >"
      ]
     },
     "execution_count": 117,
     "metadata": {},
     "output_type": "execute_result"
    },
    {
     "data": {
      "image/png": "[encoded data removed]",
      "text/plain": [
       "<Figure size 640x480 with 1 Axes>"
      ]
     },
     "metadata": {},
     "output_type": "display_data"
    }
   ],
   "source": [
    "model = LinearRegression()\n",
    "n_splits = 5  \n",
    "n_repeats = 10  \n",
    "test_size = 0.15  \n",
    "seed = seed \n",
    "\n",
    "#Resultados agregando esas 5 variables\n",
    "score_4=Group_Shuffle_Split_repetido(model,X_train,y_train,n_splits,test_size,groups,seed,n_repeats) \n",
    "\n",
    "resultados[\"score_4\"]=score_4\n",
    "sns.set(style=\"whitegrid\", palette=\"flare\")\n",
    "sns.boxplot(data=resultados[[\"score_3\",\"score_4\"]])"
   ]
  },
  {
   "cell_type": "markdown",
   "id": "e22e0761",
   "metadata": {},
   "source": [
    "Recordando en *score_3* tenemos almacenados los resultados tras hacer una validación cruzada repetida con las variables seleccionadas hasta el momento (todas menos sensores 1, 5, 10, 18 y 19). Como se puede ver en el gráfico, al agregar esas 5 variables obtenemos una mejora significativa. Lo anterior era de esperarse puesto que le permite a la regresión lineal capturar relaciones no lineales. Nuevamente, volvemos a analizar los resultados, pero utilizando un modelo tipo Random Forest para tener una visión más global del impacto que se está evaluando."
   ]
  },
  {
   "cell_type": "code",
   "execution_count": 115,
   "id": "980a8ac3",
   "metadata": {},
   "outputs": [
    {
     "data": {
      "text/plain": [
       "<AxesSubplot: >"
      ]
     },
     "execution_count": 115,
     "metadata": {},
     "output_type": "execute_result"
    },
    {
     "data": {
      "image/png": "[encoded data removed]",
      "text/plain": [
       "<Figure size 640x480 with 1 Axes>"
      ]
     },
     "metadata": {},
     "output_type": "display_data"
    }
   ],
   "source": [
    "model = RandomForestRegressor(n_jobs=-1)\n",
    "n_splits = 5  \n",
    "n_repeats = 10  \n",
    "test_size = 0.15 \n",
    "seed = seed  \n",
    "\n",
    "#Resultados agregando esas 5 variables\n",
    "score_4=Group_Shuffle_Split_repetido(model,X_train,y_train,n_splits,test_size,groups,seed,n_repeats) \n",
    "\n",
    "resultados_RF[\"score_4\"]=score_4\n",
    "sns.set(style=\"whitegrid\", palette=\"flare\")\n",
    "sns.boxplot(data=resultados_RF[[\"score_3\",\"score_4\"]])"
   ]
  },
  {
   "cell_type": "markdown",
   "id": "4de028ea",
   "metadata": {},
   "source": [
    "En este caso, a diferencia del anterior, no se observa una mejora significativa al adicionar las variables transformadas. La razón detrás de lo mencionado podría atribuirse al hecho de que en un modelo lineal se hace más necesario capturar otras relaciones cuando la naturaleza de la problema es justamente no lineal. Sin embargo, otros algoritmos más complejos, tienen la capacidad inherente de capturar relaciones no lineales sin la necesidad de agregar términos polinómicos explícitos, haciendo que no sea necesario adicionar estas transformaciones. "
   ]
  },
  {
   "cell_type": "code",
   "execution_count": 122,
   "id": "26dc559e",
   "metadata": {
    "scrolled": false
   },
   "outputs": [
    {
     "data": {
      "text/html": [
       "<div>\n",
       "<style scoped>\n",
       "    .dataframe tbody tr th:only-of-type {\n",
       "        vertical-align: middle;\n",
       "    }\n",
       "\n",
       "    .dataframe tbody tr th {\n",
       "        vertical-align: top;\n",
       "    }\n",
       "\n",
       "    .dataframe thead th {\n",
       "        text-align: right;\n",
       "    }\n",
       "</style>\n",
       "<table border=\"1\" class=\"dataframe\">\n",
       "  <thead>\n",
       "    <tr style=\"text-align: right;\">\n",
       "      <th></th>\n",
       "      <th>s_2</th>\n",
       "      <th>s_3</th>\n",
       "      <th>s_4</th>\n",
       "      <th>s_6</th>\n",
       "      <th>s_7</th>\n",
       "      <th>s_8</th>\n",
       "      <th>s_9</th>\n",
       "      <th>s_11</th>\n",
       "      <th>s_12</th>\n",
       "      <th>s_13</th>\n",
       "      <th>...</th>\n",
       "      <th>s_16</th>\n",
       "      <th>s_17</th>\n",
       "      <th>s_20</th>\n",
       "      <th>s_21</th>\n",
       "      <th>condición_op_0.0_0.0_100.0</th>\n",
       "      <th>condición_op_10.0_0.25_100.0</th>\n",
       "      <th>condición_op_20.0_0.7_100.0</th>\n",
       "      <th>condición_op_25.0_0.62_60.0</th>\n",
       "      <th>condición_op_35.0_0.84_100.0</th>\n",
       "      <th>condición_op_42.0_0.84_100.0</th>\n",
       "    </tr>\n",
       "  </thead>\n",
       "  <tbody>\n",
       "    <tr>\n",
       "      <th>0</th>\n",
       "      <td>0.500000</td>\n",
       "      <td>0.255293</td>\n",
       "      <td>0.278866</td>\n",
       "      <td>0.600000</td>\n",
       "      <td>0.152564</td>\n",
       "      <td>0.283276</td>\n",
       "      <td>0.141023</td>\n",
       "      <td>0.261905</td>\n",
       "      <td>0.206171</td>\n",
       "      <td>0.307937</td>\n",
       "      <td>...</td>\n",
       "      <td>0.0</td>\n",
       "      <td>0.363636</td>\n",
       "      <td>0.460000</td>\n",
       "      <td>0.473138</td>\n",
       "      <td>0</td>\n",
       "      <td>0</td>\n",
       "      <td>0</td>\n",
       "      <td>0</td>\n",
       "      <td>0</td>\n",
       "      <td>1</td>\n",
       "    </tr>\n",
       "    <tr>\n",
       "      <th>1</th>\n",
       "      <td>0.113433</td>\n",
       "      <td>0.335117</td>\n",
       "      <td>0.217594</td>\n",
       "      <td>0.454545</td>\n",
       "      <td>0.156289</td>\n",
       "      <td>0.114650</td>\n",
       "      <td>0.133347</td>\n",
       "      <td>0.241935</td>\n",
       "      <td>0.114089</td>\n",
       "      <td>0.059603</td>\n",
       "      <td>...</td>\n",
       "      <td>0.0</td>\n",
       "      <td>0.090909</td>\n",
       "      <td>0.297710</td>\n",
       "      <td>0.380397</td>\n",
       "      <td>0</td>\n",
       "      <td>0</td>\n",
       "      <td>1</td>\n",
       "      <td>0</td>\n",
       "      <td>0</td>\n",
       "      <td>0</td>\n",
       "    </tr>\n",
       "    <tr>\n",
       "      <th>2</th>\n",
       "      <td>0.287791</td>\n",
       "      <td>0.249042</td>\n",
       "      <td>0.349656</td>\n",
       "      <td>0.400000</td>\n",
       "      <td>0.257692</td>\n",
       "      <td>0.303754</td>\n",
       "      <td>0.113508</td>\n",
       "      <td>0.244048</td>\n",
       "      <td>0.183731</td>\n",
       "      <td>0.301587</td>\n",
       "      <td>...</td>\n",
       "      <td>0.0</td>\n",
       "      <td>0.272727</td>\n",
       "      <td>0.320000</td>\n",
       "      <td>0.564017</td>\n",
       "      <td>0</td>\n",
       "      <td>0</td>\n",
       "      <td>0</td>\n",
       "      <td>0</td>\n",
       "      <td>0</td>\n",
       "      <td>1</td>\n",
       "    </tr>\n",
       "    <tr>\n",
       "      <th>3</th>\n",
       "      <td>0.215116</td>\n",
       "      <td>0.211131</td>\n",
       "      <td>0.366495</td>\n",
       "      <td>0.600000</td>\n",
       "      <td>0.232051</td>\n",
       "      <td>0.290102</td>\n",
       "      <td>0.147144</td>\n",
       "      <td>0.255952</td>\n",
       "      <td>0.208976</td>\n",
       "      <td>0.317460</td>\n",
       "      <td>...</td>\n",
       "      <td>0.0</td>\n",
       "      <td>0.181818</td>\n",
       "      <td>0.380000</td>\n",
       "      <td>0.557824</td>\n",
       "      <td>0</td>\n",
       "      <td>0</td>\n",
       "      <td>0</td>\n",
       "      <td>0</td>\n",
       "      <td>0</td>\n",
       "      <td>1</td>\n",
       "    </tr>\n",
       "    <tr>\n",
       "      <th>4</th>\n",
       "      <td>0.220641</td>\n",
       "      <td>0.320654</td>\n",
       "      <td>0.181548</td>\n",
       "      <td>0.400000</td>\n",
       "      <td>0.237716</td>\n",
       "      <td>0.204918</td>\n",
       "      <td>0.086859</td>\n",
       "      <td>0.283871</td>\n",
       "      <td>0.230321</td>\n",
       "      <td>0.199219</td>\n",
       "      <td>...</td>\n",
       "      <td>0.0</td>\n",
       "      <td>0.333333</td>\n",
       "      <td>0.222222</td>\n",
       "      <td>0.625683</td>\n",
       "      <td>0</td>\n",
       "      <td>0</td>\n",
       "      <td>0</td>\n",
       "      <td>1</td>\n",
       "      <td>0</td>\n",
       "      <td>0</td>\n",
       "    </tr>\n",
       "  </tbody>\n",
       "</table>\n",
       "<p>5 rows × 22 columns</p>\n",
       "</div>"
      ],
      "text/plain": [
       "        s_2       s_3       s_4       s_6       s_7       s_8       s_9  \\\n",
       "0  0.500000  0.255293  0.278866  0.600000  0.152564  0.283276  0.141023   \n",
       "1  0.113433  0.335117  0.217594  0.454545  0.156289  0.114650  0.133347   \n",
       "2  0.287791  0.249042  0.349656  0.400000  0.257692  0.303754  0.113508   \n",
       "3  0.215116  0.211131  0.366495  0.600000  0.232051  0.290102  0.147144   \n",
       "4  0.220641  0.320654  0.181548  0.400000  0.237716  0.204918  0.086859   \n",
       "\n",
       "       s_11      s_12      s_13  ...  s_16      s_17      s_20      s_21  \\\n",
       "0  0.261905  0.206171  0.307937  ...   0.0  0.363636  0.460000  0.473138   \n",
       "1  0.241935  0.114089  0.059603  ...   0.0  0.090909  0.297710  0.380397   \n",
       "2  0.244048  0.183731  0.301587  ...   0.0  0.272727  0.320000  0.564017   \n",
       "3  0.255952  0.208976  0.317460  ...   0.0  0.181818  0.380000  0.557824   \n",
       "4  0.283871  0.230321  0.199219  ...   0.0  0.333333  0.222222  0.625683   \n",
       "\n",
       "   condición_op_0.0_0.0_100.0  condición_op_10.0_0.25_100.0  \\\n",
       "0                           0                             0   \n",
       "1                           0                             0   \n",
       "2                           0                             0   \n",
       "3                           0                             0   \n",
       "4                           0                             0   \n",
       "\n",
       "   condición_op_20.0_0.7_100.0  condición_op_25.0_0.62_60.0  \\\n",
       "0                            0                            0   \n",
       "1                            1                            0   \n",
       "2                            0                            0   \n",
       "3                            0                            0   \n",
       "4                            0                            1   \n",
       "\n",
       "   condición_op_35.0_0.84_100.0  condición_op_42.0_0.84_100.0  \n",
       "0                             0                             1  \n",
       "1                             0                             0  \n",
       "2                             0                             1  \n",
       "3                             0                             1  \n",
       "4                             0                             0  \n",
       "\n",
       "[5 rows x 22 columns]"
      ]
     },
     "execution_count": 122,
     "metadata": {},
     "output_type": "execute_result"
    }
   ],
   "source": [
    "columnas = [\"s_4 s_11\", \"s_17 s_11\", \"s_11 s_3\", \"s_11^2\", \"s_9 s_11\"]\n",
    "X_train=X_train.drop(labels=columnas,axis=1)\n",
    "X_train.head()"
   ]
  },
  {
   "cell_type": "code",
   "execution_count": 1,
   "id": "69b38312",
   "metadata": {},
   "outputs": [
    {
     "data": {
      "text/html": [
       "\n",
       "<style>\n",
       "div.output_area {\n",
       "    max-height: 500px; \n",
       "}\n",
       "\n",
       ".rendered_html p {\n",
       "    text-align: justify;\n",
       "    font-size: 13px;\n",
       "}\n",
       "\n",
       ".rendered_html ul li, .rendered_html ol li {\n",
       "    font-size: 13px;\n",
       "}\n",
       "\n",
       ".rendered_html h2#eda {\n",
       "    background-color: #80B8D1;\n",
       "    color: white;\n",
       "    padding: 10px;\n",
       "    font-size: 18px;\n",
       "}\n",
       "</style>\n"
      ],
      "text/plain": [
       "<IPython.core.display.HTML object>"
      ]
     },
     "metadata": {},
     "output_type": "display_data"
    }
   ],
   "source": [
    "from IPython.core.display import HTML, display\n",
    "\n",
    "style = \"\"\"\n",
    "<style>\n",
    "div.output_area {\n",
    "    max-height: 500px; \n",
    "}\n",
    "\n",
    ".rendered_html p {\n",
    "    text-align: justify;\n",
    "    font-size: 13px;\n",
    "}\n",
    "\n",
    ".rendered_html ul li, .rendered_html ol li {\n",
    "    font-size: 13px;\n",
    "}\n",
    "\n",
    ".rendered_html h2#eda {\n",
    "    background-color: #80B8D1;\n",
    "    color: white;\n",
    "    padding: 10px;\n",
    "    font-size: 18px;\n",
    "}\n",
    "</style>\n",
    "\"\"\"\n",
    "\n",
    "display(HTML(style))"
   ]
  }
 ],
 "metadata": {
  "accelerator": "GPU",
  "colab": {
   "gpuType": "T4",
   "provenance": []
  },
  "kernelspec": {
   "display_name": "Python 3 (ipykernel)",
   "language": "python",
   "name": "python3"
  },
  "language_info": {
   "codemirror_mode": {
    "name": "ipython",
    "version": 3
   },
   "file_extension": ".py",
   "mimetype": "text/x-python",
   "name": "python",
   "nbconvert_exporter": "python",
   "pygments_lexer": "ipython3",
   "version": "3.9.16"
  }
 },
 "nbformat": 4,
 "nbformat_minor": 5
}
